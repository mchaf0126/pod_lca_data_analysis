{
 "cells": [
  {
   "cell_type": "code",
   "execution_count": 4,
   "metadata": {},
   "outputs": [],
   "source": [
    "import pandas as pd\n",
    "from pathlib import Path"
   ]
  },
  {
   "cell_type": "code",
   "execution_count": 11,
   "metadata": {},
   "outputs": [],
   "source": [
    "main_directory = Path(__vsc_ipynb_file__).parents[1]\n",
    "tally_test_path = main_directory.joinpath('data/raw/tally_commercial_includeBC.csv')\n",
    "tally_test = pd.read_csv(tally_test_path)\n"
   ]
  },
  {
   "cell_type": "code",
   "execution_count": 12,
   "metadata": {},
   "outputs": [],
   "source": [
    "tally_test = tally_test.drop(\n",
    "    columns=[\n",
    "        \"Revit design option\",\n",
    "        'Revit general category',\n",
    "        'Thickness of material (m)',\n",
    "        'Total instance count',\n",
    "        'Cumulative material area (m2)',\n",
    "        'Cumulative instance volume (m3)',\n",
    "        'Cumulative instance area (m2)',\n",
    "        'Cumulative instance length (m)',\n",
    "        'Cumulative instance perimeter (m)',\n",
    "        'Tally Entry Description'\n",
    "    ]\n",
    ")"
   ]
  },
  {
   "cell_type": "code",
   "execution_count": null,
   "metadata": {},
   "outputs": [],
   "source": []
  }
 ],
 "metadata": {
  "kernelspec": {
   "display_name": "pod_da_venv",
   "language": "python",
   "name": "python3"
  },
  "language_info": {
   "codemirror_mode": {
    "name": "ipython",
    "version": 3
   },
   "file_extension": ".py",
   "mimetype": "text/x-python",
   "name": "python",
   "nbconvert_exporter": "python",
   "pygments_lexer": "ipython3",
   "version": "3.11.9"
  }
 },
 "nbformat": 4,
 "nbformat_minor": 2
}
