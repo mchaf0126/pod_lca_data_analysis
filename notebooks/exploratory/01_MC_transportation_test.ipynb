{
 "cells": [
  {
   "cell_type": "code",
   "execution_count": 13,
   "metadata": {},
   "outputs": [],
   "source": [
    "from pathlib import Path\n",
    "import pandas as pd"
   ]
  },
  {
   "cell_type": "code",
   "execution_count": 40,
   "metadata": {},
   "outputs": [],
   "source": [
    "main_directory = Path(__vsc_ipynb_file__).parents[2]\n",
    "transporation_emissions_file = main_directory.joinpath('references/background_data/a4_emissions.xlsx')\n",
    "transportation_distances_file = main_directory.joinpath('references/background_data/a4_distances.xlsx')\n",
    "bom_file = main_directory.joinpath('data/template_models/STR1_ENCO1_ENCT1_ENCR1/bom/STR1_ENCO1_ENCT1_ENCR1_bom.csv')\n",
    "\n",
    "background_dataset = pd.read_excel(transporation_emissions_file)\n",
    "background_distances = pd.read_excel(transportation_distances_file)\n",
    "bom = pd.read_csv(bom_file)\n",
    "impacts_map = {\n",
    "    'Global Warming Potential_fossil': 'GWPf',\n",
    "    'Global Warming Potential_biogenic': 'GWPb',\n",
    "    'Global Warming Potential_luluc': 'GWP-LULUC',\n",
    "    'Acidification Potential': 'acp',\n",
    "    'Eutrophication Potential': 'eup',\n",
    "    'Smog Formation Potential': 'smg',\n",
    "    'Ozone Depletion Potential': 'odp'\n",
    "}\n",
    "mi_to_km_conversion = 1.60934\n",
    "\n",
    "truck_dict = {\n",
    "    'emissions_name': 'Transport, combination truck, average fuel mix',\n",
    "    'distance_column': 'Tally dist_truck',\n",
    "}\n",
    "\n",
    "trans_emissions = background_dataset.set_index('Product system name')\n",
    "trans_distances = background_distances[['Name_Tally Material', truck_dict.get('distance_column')]]\n",
    "# emission = mass of product * emission factor * distance * return factor\n",
    "temp_df = bom.merge(\n",
    "    trans_distances,\n",
    "    left_on='Tally material',\n",
    "    right_on='Name_Tally Material',\n",
    "    how='left'\n",
    ").drop(\n",
    "    \"Name_Tally Material\",\n",
    "    axis=1\n",
    ")\n",
    "for name, col_name in impacts_map.items():\n",
    "    temp_df[name] = (temp_df['Weight (kg)'] / 1000) * trans_emissions.loc[truck_dict.get('emissions_name'), col_name] * (temp_df[truck_dict.get('distance_column')] * mi_to_km_conversion)\n",
    "    temp_df.loc[temp_df[truck_dict.get('distance_column')] > 500, name] =  1.5 * (temp_df['Weight (kg)'] / 1000) * trans_emissions.loc[truck_dict.get('emissions_name'), col_name] * (temp_df[truck_dict.get('distance_column')] * mi_to_km_conversion)\n",
    "\n",
    "temp_df.to_csv('truck.csv')\n",
    "\n"
   ]
  },
  {
   "cell_type": "code",
   "execution_count": null,
   "metadata": {},
   "outputs": [],
   "source": []
  }
 ],
 "metadata": {
  "kernelspec": {
   "display_name": "pod_da_venv",
   "language": "python",
   "name": "python3"
  },
  "language_info": {
   "codemirror_mode": {
    "name": "ipython",
    "version": 3
   },
   "file_extension": ".py",
   "mimetype": "text/x-python",
   "name": "python",
   "nbconvert_exporter": "python",
   "pygments_lexer": "ipython3",
   "version": "3.11.9"
  }
 },
 "nbformat": 4,
 "nbformat_minor": 2
}
